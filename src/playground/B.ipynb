{
 "cells": [
  {
   "cell_type": "code",
   "execution_count": 1,
   "metadata": {
    "dagpy": {
     "cell_type": "input_filter"
    }
   },
   "outputs": [],
   "source": [
    "# DAGpy input filter\n",
    "import dill\n",
    "A_y = dill.load(open('cache/A_y.dill','rb'))"
   ]
  },
  {
   "cell_type": "code",
   "execution_count": 2,
   "metadata": {
    "collapsed": true
   },
   "outputs": [
    {
     "name": "stdout",
     "output_type": "stream",
     "text": [
      "b\n"
     ]
    }
   ],
   "source": [
    "print('b')"
   ]
  },
  {
   "cell_type": "code",
   "execution_count": 3,
   "metadata": {},
   "outputs": [
    {
     "name": "stdout",
     "output_type": "stream",
     "text": [
      "100\n"
     ]
    }
   ],
   "source": [
    "print(A_y)"
   ]
  },
  {
   "cell_type": "code",
   "execution_count": 4,
   "metadata": {
    "dagpy": {
     "cell_type": "output_filter"
    }
   },
   "outputs": [],
   "source": [
    "# DAGpy output filter\n",
    "# To change the filter, edit the block properties, not this cell.\n",
    "import dill\n",
    "import os"
   ]
  }
 ],
 "metadata": {
  "dagpy": {
   "block_id": "B"
  }
 },
 "nbformat": 4,
 "nbformat_minor": 2
}
