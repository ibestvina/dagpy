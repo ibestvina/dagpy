{
 "cells": [
  {
   "cell_type": "code",
   "execution_count": 1,
   "metadata": {
    "collapsed": true
   },
   "outputs": [
    {
     "name": "stdout",
     "output_type": "stream",
     "text": [
      "a\n"
     ]
    }
   ],
   "source": [
    "print('a')"
   ]
  },
  {
   "cell_type": "code",
   "execution_count": null,
   "metadata": {},
   "outputs": [],
   "source": [
    "# here goes the filter of vars: ['']"
   ]
  }
 ],
 "metadata": {
  "dagpy": {
   "block_id": "A"
  }
 },
 "nbformat": 4,
 "nbformat_minor": 2
}
