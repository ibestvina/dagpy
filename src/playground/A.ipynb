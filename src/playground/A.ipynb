{
 "cells": [
  {
   "cell_type": "code",
   "execution_count": null,
   "metadata": {
    "dagpy": {
     "cell_type": "input_filter"
    }
   },
   "outputs": [],
   "source": [
    "# DAGpy input filter\n",
    "import dill"
   ]
  },
  {
   "cell_type": "code",
   "execution_count": 1,
   "metadata": {
    "collapsed": true
   },
   "outputs": [
    {
     "name": "stdout",
     "output_type": "stream",
     "text": [
      "a\n"
     ]
    }
   ],
   "source": [
    "print('a')"
   ]
  },
  {
   "cell_type": "code",
   "execution_count": 1,
   "metadata": {},
   "outputs": [],
   "source": [
    "y = 100"
   ]
  },
  {
   "cell_type": "code",
   "execution_count": 2,
   "metadata": {
    "dagpy": {
     "cell_type": "output_filter"
    }
   },
   "outputs": [],
   "source": [
    "# DAGpy output filter\n",
    "# To change the filter, edit the block properties, not this cell.\n",
    "import dill\n",
    "import os\n",
    "os.makedirs(os.path.dirname('playground\\cache\\A_y.dill'), exist_ok=True)\n",
    "dill.dump(y, open('playground\\cache\\A_y.dill', 'wb'))"
   ]
  },
  {
   "cell_type": "code",
   "execution_count": null,
   "metadata": {},
   "outputs": [],
   "source": [
    ""
   ]
  }
 ],
 "metadata": {
  "dagpy": {
   "block_id": "A"
  },
  "kernelspec": {
   "display_name": "Python 3",
   "language": "python",
   "name": "python3"
  },
  "language_info": {
   "codemirror_mode": {
    "name": "ipython",
    "version": 3.0
   },
   "file_extension": ".py",
   "mimetype": "text/x-python",
   "name": "python",
   "nbconvert_exporter": "python",
   "pygments_lexer": "ipython3",
   "version": "3.4.5"
  }
 },
 "nbformat": 4,
 "nbformat_minor": 0
}