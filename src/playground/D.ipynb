{
 "cells": [
  {
   "cell_type": "code",
   "execution_count": 1,
   "metadata": {
    "dagpy": {
     "cell_type": "input_filter"
    }
   },
   "outputs": [],
   "source": [
    "# DAGpy input filter\n",
    "import dill"
   ]
  },
  {
   "cell_type": "code",
   "execution_count": 2,
   "metadata": {},
   "outputs": [
    {
     "name": "stdout",
     "output_type": "stream",
     "text": [
      "d\n"
     ]
    }
   ],
   "source": [
    "print('d')"
   ]
  },
  {
   "cell_type": "code",
   "execution_count": 3,
   "metadata": {},
   "outputs": [
    {
     "name": "stdout",
     "output_type": "stream",
     "text": [
      "this is new\n"
     ]
    }
   ],
   "source": [
    "print('this is new')"
   ]
  },
  {
   "cell_type": "code",
   "execution_count": 4,
   "metadata": {},
   "outputs": [],
   "source": [
    "x = 5"
   ]
  },
  {
   "cell_type": "code",
   "execution_count": 5,
   "metadata": {
    "dagpy": {
     "cell_type": "output_filter"
    }
   },
   "outputs": [],
   "source": [
    "# DAGpy output filter\n",
    "# To change the filter, edit the block properties, not this cell.\n",
    "import dill\n",
    "import os"
   ]
  }
 ],
 "metadata": {
  "dagpy": {
   "block_id": "D"
  }
 },
 "nbformat": 4,
 "nbformat_minor": 2
}
