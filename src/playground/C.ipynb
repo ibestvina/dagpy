{
 "cells": [
  {
   "cell_type": "code",
   "execution_count": 1,
   "metadata": {
    "collapsed": true
   },
   "outputs": [
    {
     "name": "stdout",
     "output_type": "stream",
     "text": [
      "c\n"
     ]
    }
   ],
   "source": [
    "print('c')"
   ]
  },
  {
   "cell_type": "code",
   "execution_count": null,
   "metadata": {},
   "outputs": [],
   "source": [
    "# here goes the filter of vars: ['']"
   ]
  }
 ],
 "metadata": {
  "dagpy": {
   "block_id": "C"
  }
 },
 "nbformat": 4,
 "nbformat_minor": 2
}
