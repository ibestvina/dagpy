{
 "cells": [
  {
   "cell_type": "code",
   "execution_count": null,
   "metadata": {
    "dagpy": {
     "cell_type": "header"
    }
   },
   "outputs": [],
   "source": [
    "from IPython.display import display_javascript\n",
    "def start_new_dagpy_block():\n",
    "    header_code = \"\"\"### Block_id\\\\n\\\\n##### Description\\\\n\\\\n##### Parents\\\\n\\\\n##### Filter\\\\n\\\\n##### File\\\\n\"\"\"\n",
    "    display_javascript(\"\"\"var t_cell = IPython.notebook.get_selected_cell()\n",
    "    var t_index  = IPython.notebook.get_cells().indexOf(t_cell)-1\n",
    "    var t_cell = IPython.notebook.get_cell(t_index)\n",
    "    t_cell.set_text(\"{header_code}\");\n",
    "    t_cell.metadata = {{\"dagpy\": {{\"cell_type\": \"delimiter\"}}}};\n",
    "    IPython.notebook.to_markdown(t_index);\n",
    "    IPython.notebook.get_cell(t_index).render();\"\"\".format(header_code = header_code), raw=True)"
   ]
  },
  {
   "cell_type": "markdown",
   "metadata": {
    "dagpy": {
     "cell_type": "title"
    }
   },
   "source": [
    "## DAGpy Flow notebook\n",
    "If you want to start a new block, just run the start_new_dagpy_block() in the cell!"
   ]
  },
  {
   "cell_type": "markdown",
   "metadata": {
    "dagpy": {
     "block_id": "A",
     "cell_type": "delimiter"
    }
   },
   "source": [
    "### Block_id\n",
    "A\n",
    "##### Description\n",
    "\n",
    "##### Parents\n",
    "\n",
    "##### Filter\n",
    "y\n",
    "##### File\n",
    "playground/A.ipynb"
   ]
  },
  {
   "cell_type": "code",
   "execution_count": null,
   "metadata": {
    "dagpy": {
     "cell_type": "input_filter"
    }
   },
   "outputs": [],
   "source": [
    "# DAGpy input filter\n",
    "import dill"
   ]
  },
  {
   "cell_type": "code",
   "execution_count": 2,
   "metadata": {
    "collapsed": true
   },
   "outputs": [
    {
     "name": "stdout",
     "output_type": "stream",
     "text": [
      "a\n"
     ]
    }
   ],
   "source": [
    "print('a')"
   ]
  },
  {
   "cell_type": "code",
   "execution_count": 3,
   "metadata": {},
   "outputs": [],
   "source": [
    "y = 100"
   ]
  },
  {
   "cell_type": "code",
   "execution_count": 4,
   "metadata": {},
   "outputs": [],
   "source": []
  },
  {
   "cell_type": "code",
   "execution_count": null,
   "metadata": {
    "dagpy": {
     "cell_type": "output_filter"
    }
   },
   "outputs": [],
   "source": [
    "# DAGpy output filter\n",
    "# To change the filter, edit the block properties, not this cell.\n",
    "import dill\n",
    "import os\n",
    "os.makedirs(os.path.dirname('cache/A_y.dill'), exist_ok=True)\n",
    "dill.dump(y, open('cache/A_y.dill', 'wb+'))"
   ]
  },
  {
   "cell_type": "markdown",
   "metadata": {
    "dagpy": {
     "block_id": "C",
     "cell_type": "delimiter"
    }
   },
   "source": [
    "### Block_id\n",
    "C\n",
    "##### Description\n",
    "\n",
    "##### Parents\n",
    "A\n",
    "##### Filter\n",
    "\n",
    "##### File\n",
    "playground/C.ipynb"
   ]
  },
  {
   "cell_type": "code",
   "execution_count": null,
   "metadata": {
    "dagpy": {
     "cell_type": "input_filter"
    }
   },
   "outputs": [],
   "source": [
    "# DAGpy input filter\n",
    "import dill\n",
    "A_y = dill.load(open('cache/A_y.dill','rb'))"
   ]
  },
  {
   "cell_type": "code",
   "execution_count": 1,
   "metadata": {
    "collapsed": true
   },
   "outputs": [
    {
     "name": "stdout",
     "output_type": "stream",
     "text": [
      "c\n"
     ]
    }
   ],
   "source": [
    "print('c')"
   ]
  },
  {
   "cell_type": "code",
   "execution_count": null,
   "metadata": {
    "dagpy": {
     "cell_type": "output_filter"
    }
   },
   "outputs": [],
   "source": [
    "# DAGpy output filter\n",
    "# To change the filter, edit the block properties, not this cell.\n",
    "import dill\n",
    "import os"
   ]
  },
  {
   "cell_type": "markdown",
   "metadata": {
    "dagpy": {
     "block_id": "B",
     "cell_type": "delimiter"
    }
   },
   "source": [
    "### Block_id\n",
    "B\n",
    "##### Description\n",
    "\n",
    "##### Parents\n",
    "A\n",
    "##### Filter\n",
    "\n",
    "##### File\n",
    "playground/B.ipynb"
   ]
  },
  {
   "cell_type": "code",
   "execution_count": null,
   "metadata": {
    "dagpy": {
     "cell_type": "input_filter"
    }
   },
   "outputs": [],
   "source": [
    "# DAGpy input filter\n",
    "import dill\n",
    "A_y = dill.load(open('cache/A_y.dill','rb'))"
   ]
  },
  {
   "cell_type": "code",
   "execution_count": 2,
   "metadata": {
    "collapsed": true
   },
   "outputs": [
    {
     "name": "stdout",
     "output_type": "stream",
     "text": [
      "b\n"
     ]
    }
   ],
   "source": [
    "print('b')"
   ]
  },
  {
   "cell_type": "code",
   "execution_count": 3,
   "metadata": {},
   "outputs": [
    {
     "name": "stdout",
     "output_type": "stream",
     "text": [
      "100\n"
     ]
    }
   ],
   "source": [
    "print(A_y)"
   ]
  },
  {
   "cell_type": "code",
   "execution_count": null,
   "metadata": {
    "dagpy": {
     "cell_type": "output_filter"
    }
   },
   "outputs": [],
   "source": [
    "# DAGpy output filter\n",
    "# To change the filter, edit the block properties, not this cell.\n",
    "import dill\n",
    "import os"
   ]
  },
  {
   "cell_type": "markdown",
   "metadata": {
    "dagpy": {
     "block_id": "D",
     "cell_type": "delimiter"
    }
   },
   "source": [
    "### Block_id\n",
    "D\n",
    "##### Description\n",
    "\n",
    "##### Parents\n",
    "B, C\n",
    "##### Filter\n",
    "\n",
    "##### File\n",
    "playground/D.ipynb"
   ]
  },
  {
   "cell_type": "code",
   "execution_count": null,
   "metadata": {
    "dagpy": {
     "cell_type": "input_filter"
    }
   },
   "outputs": [],
   "source": [
    "# DAGpy input filter\n",
    "import dill"
   ]
  },
  {
   "cell_type": "code",
   "execution_count": 1,
   "metadata": {},
   "outputs": [
    {
     "name": "stdout",
     "output_type": "stream",
     "text": [
      "d\n"
     ]
    }
   ],
   "source": [
    "print('d')"
   ]
  },
  {
   "cell_type": "code",
   "execution_count": 2,
   "metadata": {},
   "outputs": [
    {
     "name": "stdout",
     "output_type": "stream",
     "text": [
      "this is new\n"
     ]
    }
   ],
   "source": [
    "print('this is new')"
   ]
  },
  {
   "cell_type": "code",
   "execution_count": null,
   "metadata": {},
   "outputs": [],
   "source": [
    "x = 5"
   ]
  },
  {
   "cell_type": "code",
   "execution_count": null,
   "metadata": {
    "dagpy": {
     "cell_type": "output_filter"
    }
   },
   "outputs": [],
   "source": [
    "# DAGpy output filter\n",
    "# To change the filter, edit the block properties, not this cell.\n",
    "import dill\n",
    "import os"
   ]
  }
 ],
 "metadata": {
  "name": "dagpy_flow"
 },
 "nbformat": 4,
 "nbformat_minor": 2
}
