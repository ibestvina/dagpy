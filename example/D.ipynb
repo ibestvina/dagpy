{
 "cells": [
  {
   "cell_type": "code",
   "execution_count": 1,
   "metadata": {
    "dagpy": {
     "cell_type": "input_filter"
    }
   },
   "outputs": [],
   "source": [
    "# DAGpy input filter\n",
    "import dill\n",
    "B_var_b = dill.load(open('cache/B_var_b.dill','rb'))\n",
    "C_var_c = dill.load(open('cache/C_var_c.dill','rb'))"
   ]
  },
  {
   "cell_type": "code",
   "execution_count": 2,
   "metadata": {},
   "outputs": [
    {
     "name": "stdout",
     "output_type": "stream",
     "text": [
      "var_b = 12.5\n"
     ]
    }
   ],
   "source": [
    "print('var_b = {}'.format(B_var_b + C_var_c))"
   ]
  },
  {
   "cell_type": "code",
   "execution_count": 3,
   "metadata": {
    "dagpy": {
     "cell_type": "output_filter"
    }
   },
   "outputs": [],
   "source": [
    "# DAGpy output filter\n",
    "# To change the filter, edit the block properties, not this cell.\n",
    "import dill\n",
    "import os"
   ]
  }
 ],
 "metadata": {
  "dagpy": {
   "block_id": "D"
  }
 },
 "nbformat": 4,
 "nbformat_minor": 2
}
