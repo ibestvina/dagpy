{
 "cells": [
  {
   "cell_type": "code",
   "execution_count": 1,
   "metadata": {
    "dagpy": {
     "cell_type": "input_filter"
    }
   },
   "outputs": [],
   "source": [
    "# DAGpy input filter\n",
    "import dill\n",
    "A_var_a = dill.load(open('cache/A_var_a.dill','rb'))"
   ]
  },
  {
   "cell_type": "code",
   "execution_count": 2,
   "metadata": {},
   "outputs": [],
   "source": [
    "var_b = A_var_a / 2"
   ]
  },
  {
   "cell_type": "code",
   "execution_count": 3,
   "metadata": {},
   "outputs": [
    {
     "name": "stdout",
     "output_type": "stream",
     "text": [
      "var_b = 2.5\n"
     ]
    }
   ],
   "source": [
    "print('var_b = {}'.format(var_b))"
   ]
  },
  {
   "cell_type": "code",
   "execution_count": 4,
   "metadata": {
    "dagpy": {
     "cell_type": "output_filter"
    }
   },
   "outputs": [],
   "source": [
    "# DAGpy output filter\n",
    "# To change the filter, edit the block properties, not this cell.\n",
    "import dill\n",
    "import os\n",
    "os.makedirs(os.path.dirname('cache/B_var_b.dill'), exist_ok=True)\n",
    "dill.dump(var_b, open('cache/B_var_b.dill', 'wb+'))"
   ]
  }
 ],
 "metadata": {
  "dagpy": {
   "block_id": "B"
  }
 },
 "nbformat": 4,
 "nbformat_minor": 2
}
