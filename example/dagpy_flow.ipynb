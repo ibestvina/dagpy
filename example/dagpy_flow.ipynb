{
 "cells": [
  {
   "cell_type": "code",
   "execution_count": null,
   "metadata": {
    "dagpy": {
     "cell_type": "header"
    }
   },
   "outputs": [],
   "source": [
    "\"\"\"Run this cell to add the start_new_dagpy_block to you namespace. Call it from any cell to start a new block there.\"\"\"\r\n",
    "from IPython.display import display_javascript\r\n",
    "def start_new_dagpy_block():\r\n",
    "    header_code = \"\"\"### Block_id\\\\n\\\\n##### Description\\\\n\\\\n##### Parents\\\\n\\\\n##### Filter\\\\n\\\\n##### File\\\\n\"\"\"\r\n",
    "    display_javascript(\"\"\"var t_cell = IPython.notebook.get_selected_cell()\r\n",
    "    var t_index  = IPython.notebook.get_cells().indexOf(t_cell)-1\r\n",
    "    var t_cell = IPython.notebook.get_cell(t_index)\r\n",
    "    t_cell.set_text(\"{header_code}\");\r\n",
    "    t_cell.metadata = {{\"dagpy\": {{\"cell_type\": \"delimiter\"}}}};\r\n",
    "    IPython.notebook.to_markdown(t_index);\r\n",
    "    IPython.notebook.get_cell(t_index).render();\"\"\".format(header_code = header_code), raw=True)\r\n"
   ]
  },
  {
   "cell_type": "markdown",
   "metadata": {
    "dagpy": {
     "cell_type": "title"
    }
   },
   "source": [
    "## DAGpy Flow notebook\n",
    "If you want to start a new block, just run the start_new_dagpy_block() in the cell!"
   ]
  },
  {
   "cell_type": "markdown",
   "metadata": {
    "dagpy": {
     "block_id": "A",
     "cell_type": "delimiter"
    }
   },
   "source": [
    "### Block_id\n",
    "A\n",
    "##### Description\n",
    "This is the description of the block A.\n",
    "##### Parents\n",
    "\n",
    "##### Filter\n",
    "var_a\n",
    "##### File\n",
    "A.ipynb"
   ]
  },
  {
   "cell_type": "code",
   "execution_count": 1,
   "metadata": {
    "dagpy": {
     "cell_type": "input_filter"
    }
   },
   "outputs": [],
   "source": [
    "# DAGpy input filter\n",
    "import dill"
   ]
  },
  {
   "cell_type": "code",
   "execution_count": 2,
   "metadata": {},
   "outputs": [],
   "source": [
    "var_a = 5"
   ]
  },
  {
   "cell_type": "code",
   "execution_count": 3,
   "metadata": {},
   "outputs": [
    {
     "name": "stdout",
     "output_type": "stream",
     "text": [
      "var_a = 5\n"
     ]
    }
   ],
   "source": [
    "print('var_a = {}'.format(var_a))"
   ]
  },
  {
   "cell_type": "code",
   "execution_count": 4,
   "metadata": {
    "dagpy": {
     "cell_type": "output_filter"
    }
   },
   "outputs": [],
   "source": [
    "# DAGpy output filter\n",
    "# To change the filter, edit the block properties, not this cell.\n",
    "import dill\n",
    "import os\n",
    "os.makedirs(os.path.dirname('cache/A_var_a.dill'), exist_ok=True)\n",
    "dill.dump(var_a, open('cache/A_var_a.dill', 'wb+'))"
   ]
  },
  {
   "cell_type": "markdown",
   "metadata": {
    "dagpy": {
     "block_id": "B",
     "cell_type": "delimiter"
    }
   },
   "source": [
    "### Block_id\n",
    "B\n",
    "##### Description\n",
    "This is the description of the block A.\n",
    "##### Parents\n",
    "A\n",
    "##### Filter\n",
    "var_b\n",
    "##### File\n",
    "B.ipynb"
   ]
  },
  {
   "cell_type": "code",
   "execution_count": 1,
   "metadata": {
    "dagpy": {
     "cell_type": "input_filter"
    }
   },
   "outputs": [],
   "source": [
    "# DAGpy input filter\n",
    "import dill\n",
    "A_var_a = dill.load(open('cache/A_var_a.dill','rb'))"
   ]
  },
  {
   "cell_type": "code",
   "execution_count": 2,
   "metadata": {},
   "outputs": [],
   "source": [
    "var_b = A_var_a / 2"
   ]
  },
  {
   "cell_type": "code",
   "execution_count": 3,
   "metadata": {},
   "outputs": [
    {
     "name": "stdout",
     "output_type": "stream",
     "text": [
      "var_b = 2.5\n"
     ]
    }
   ],
   "source": [
    "print('var_b = {}'.format(var_b))"
   ]
  },
  {
   "cell_type": "code",
   "execution_count": 4,
   "metadata": {
    "dagpy": {
     "cell_type": "output_filter"
    }
   },
   "outputs": [],
   "source": [
    "# DAGpy output filter\n",
    "# To change the filter, edit the block properties, not this cell.\n",
    "import dill\n",
    "import os\n",
    "os.makedirs(os.path.dirname('cache/B_var_b.dill'), exist_ok=True)\n",
    "dill.dump(var_b, open('cache/B_var_b.dill', 'wb+'))"
   ]
  },
  {
   "cell_type": "markdown",
   "metadata": {
    "dagpy": {
     "block_id": "C",
     "cell_type": "delimiter"
    }
   },
   "source": [
    "### Block_id\n",
    "C\n",
    "##### Description\n",
    "This is the description of the block C.\n",
    "##### Parents\n",
    "A\n",
    "##### Filter\n",
    "var_c\n",
    "##### File\n",
    "C.ipynb"
   ]
  },
  {
   "cell_type": "code",
   "execution_count": 1,
   "metadata": {
    "dagpy": {
     "cell_type": "input_filter"
    }
   },
   "outputs": [],
   "source": [
    "# DAGpy input filter\n",
    "import dill\n",
    "A_var_a = dill.load(open('cache/A_var_a.dill','rb'))"
   ]
  },
  {
   "cell_type": "code",
   "execution_count": 2,
   "metadata": {},
   "outputs": [],
   "source": [
    "var_c = A_var_a * 2"
   ]
  },
  {
   "cell_type": "code",
   "execution_count": 3,
   "metadata": {},
   "outputs": [
    {
     "name": "stdout",
     "output_type": "stream",
     "text": [
      "var_c = 10\n"
     ]
    }
   ],
   "source": [
    "print('var_c = {}'.format(var_c))"
   ]
  },
  {
   "cell_type": "code",
   "execution_count": 4,
   "metadata": {
    "dagpy": {
     "cell_type": "output_filter"
    }
   },
   "outputs": [],
   "source": [
    "# DAGpy output filter\n",
    "# To change the filter, edit the block properties, not this cell.\n",
    "import dill\n",
    "import os\n",
    "os.makedirs(os.path.dirname('cache/C_var_c.dill'), exist_ok=True)\n",
    "dill.dump(var_c, open('cache/C_var_c.dill', 'wb+'))"
   ]
  },
  {
   "cell_type": "markdown",
   "metadata": {
    "dagpy": {
     "block_id": "D",
     "cell_type": "delimiter"
    }
   },
   "source": [
    "### Block_id\n",
    "D\n",
    "##### Description\n",
    "This is the description of the block D.\n",
    "##### Parents\n",
    "B, C\n",
    "##### Filter\n",
    "\n",
    "##### File\n",
    "D.ipynb"
   ]
  },
  {
   "cell_type": "code",
   "execution_count": 1,
   "metadata": {
    "dagpy": {
     "cell_type": "input_filter"
    }
   },
   "outputs": [],
   "source": [
    "# DAGpy input filter\n",
    "import dill\n",
    "B_var_b = dill.load(open('cache/B_var_b.dill','rb'))\n",
    "C_var_c = dill.load(open('cache/C_var_c.dill','rb'))"
   ]
  },
  {
   "cell_type": "code",
   "execution_count": 2,
   "metadata": {},
   "outputs": [
    {
     "name": "stdout",
     "output_type": "stream",
     "text": [
      "var_b = 12.5\n"
     ]
    }
   ],
   "source": [
    "print('var_b = {}'.format(B_var_b + C_var_c))"
   ]
  },
  {
   "cell_type": "code",
   "execution_count": 3,
   "metadata": {
    "dagpy": {
     "cell_type": "output_filter"
    }
   },
   "outputs": [],
   "source": [
    "# DAGpy output filter\n",
    "# To change the filter, edit the block properties, not this cell.\n",
    "import dill\n",
    "import os"
   ]
  }
 ],
 "metadata": {
  "name": "dagpy_flow"
 },
 "nbformat": 4,
 "nbformat_minor": 2
}
