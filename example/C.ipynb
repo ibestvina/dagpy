{
 "cells": [
  {
   "cell_type": "code",
   "execution_count": 1,
   "metadata": {
    "dagpy": {
     "cell_type": "input_filter"
    }
   },
   "outputs": [],
   "source": [
    "# DAGpy input filter\n",
    "import dill\n",
    "A_var_a = dill.load(open('cache/A_var_a.dill','rb'))"
   ]
  },
  {
   "cell_type": "code",
   "execution_count": 2,
   "metadata": {},
   "outputs": [],
   "source": [
    "var_c = A_var_a * 2"
   ]
  },
  {
   "cell_type": "code",
   "execution_count": 3,
   "metadata": {},
   "outputs": [
    {
     "name": "stdout",
     "output_type": "stream",
     "text": [
      "var_c = 10\n"
     ]
    }
   ],
   "source": [
    "print('var_c = {}'.format(var_c))"
   ]
  },
  {
   "cell_type": "code",
   "execution_count": 4,
   "metadata": {
    "dagpy": {
     "cell_type": "output_filter"
    }
   },
   "outputs": [],
   "source": [
    "# DAGpy output filter\n",
    "# To change the filter, edit the block properties, not this cell.\n",
    "import dill\n",
    "import os\n",
    "os.makedirs(os.path.dirname('cache/C_var_c.dill'), exist_ok=True)\n",
    "dill.dump(var_c, open('cache/C_var_c.dill', 'wb+'))"
   ]
  }
 ],
 "metadata": {
  "dagpy": {
   "block_id": "C"
  }
 },
 "nbformat": 4,
 "nbformat_minor": 2
}
